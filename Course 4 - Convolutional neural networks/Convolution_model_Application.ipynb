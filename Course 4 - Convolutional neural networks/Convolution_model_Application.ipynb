{
 "cells": [
  {
   "cell_type": "markdown",
   "metadata": {},
   "source": [
    "# Convolutional Neural Networks: Application\n",
    "\n",
    "Welcome to Course 4's second assignment! In this notebook, you will:\n",
    "\n",
    "- Create a mood classifer using the TF Keras Sequential API\n",
    "- Build a ConvNet to identify sign language digits using the TF Keras Functional API\n",
    "\n",
    "**After this assignment you will be able to:**\n",
    "\n",
    "- Build and train a ConvNet in TensorFlow for a __binary__ classification problem\n",
    "- Build and train a ConvNet in TensorFlow for a __multiclass__ classification problem\n",
    "- Explain different use cases for the Sequential and Functional APIs\n",
    "\n",
    "To complete this assignment, you should already be familiar with TensorFlow. If you are not, please refer back to the **TensorFlow Tutorial** of the third week of Course 2 (\"**Improving deep neural networks**\").\n",
    "\n",
    "## Important Note on Submission to the AutoGrader\n",
    "\n",
    "Before submitting your assignment to the AutoGrader, please make sure you are not doing the following:\n",
    "\n",
    "1. You have not added any _extra_ `print` statement(s) in the assignment.\n",
    "2. You have not added any _extra_ code cell(s) in the assignment.\n",
    "3. You have not changed any of the function parameters.\n",
    "4. You are not using any global variables inside your graded exercises. Unless specifically instructed to do so, please refrain from it and use the local variables instead.\n",
    "5. You are not changing the assignment code where it is not required, like creating _extra_ variables.\n",
    "\n",
    "If you do any of the following, you will get something like, `Grader Error: Grader feedback not found` (or similarly unexpected) error upon submitting your assignment. Before asking for help/debugging the errors in your assignment, check for these first. If this is the case, and you don't remember the changes you have made, you can get a fresh copy of the assignment by following these [instructions](https://www.coursera.org/learn/convolutional-neural-networks/supplement/DS4yP/h-ow-to-refresh-your-workspace)."
   ]
  },
  {
   "cell_type": "markdown",
   "metadata": {},
   "source": [
    "## Table of Contents\n",
    "\n",
    "- [1 - Packages](#1)\n",
    "    - [1.1 - Load the Data and Split the Data into Train/Test Sets](#1-1)\n",
    "- [2 - Layers in TF Keras](#2)\n",
    "- [3 - The Sequential API](#3)\n",
    "    - [3.1 - Create the Sequential Model](#3-1)\n",
    "        - [Exercise 1 - happyModel](#ex-1)\n",
    "    - [3.2 - Train and Evaluate the Model](#3-2)\n",
    "- [4 - The Functional API](#4)\n",
    "    - [4.1 - Load the SIGNS Dataset](#4-1)\n",
    "    - [4.2 - Split the Data into Train/Test Sets](#4-2)\n",
    "    - [4.3 - Forward Propagation](#4-3)\n",
    "        - [Exercise 2 - convolutional_model](#ex-2)\n",
    "    - [4.4 - Train the Model](#4-4)\n",
    "- [5 - History Object](#5)\n",
    "- [6 - Bibliography](#6)"
   ]
  },
  {
   "cell_type": "markdown",
   "metadata": {},
   "source": [
    "<a name='1'></a>\n",
    "## 1 - Packages\n",
    "\n",
    "As usual, begin by loading in the packages."
   ]
  },
  {
   "cell_type": "code",
   "execution_count": 1,
   "metadata": {},
   "outputs": [],
   "source": [
    "import math\n",
    "import numpy as np\n",
    "import h5py\n",
    "import matplotlib.pyplot as plt\n",
    "from matplotlib.pyplot import imread\n",
    "import scipy\n",
    "from PIL import Image\n",
    "import pandas as pd\n",
    "import tensorflow as tf\n",
    "import tensorflow.keras.layers as tfl\n",
    "from tensorflow.python.framework import ops\n",
    "from cnn_utils import *\n",
    "from test_utils import summary, comparator\n",
    "\n",
    "%matplotlib inline\n",
    "np.random.seed(1)"
   ]
  },
  {
   "cell_type": "markdown",
   "metadata": {},
   "source": [
    "<a name='1-1'></a>\n",
    "### 1.1 - Load the Data and Split the Data into Train/Test Sets\n",
    "\n",
    "You'll be using the Happy House dataset for this part of the assignment, which contains images of peoples' faces. Your task will be to build a ConvNet that determines whether the people in the images are smiling or not -- because they only get to enter the house if they're smiling!  "
   ]
  },
  {
   "cell_type": "code",
   "execution_count": 2,
   "metadata": {},
   "outputs": [
    {
     "name": "stdout",
     "output_type": "stream",
     "text": [
      "number of training examples = 600\n",
      "number of test examples = 150\n",
      "X_train shape: (600, 64, 64, 3)\n",
      "Y_train shape: (600, 1)\n",
      "X_test shape: (150, 64, 64, 3)\n",
      "Y_test shape: (150, 1)\n"
     ]
    }
   ],
   "source": [
    "X_train_orig, Y_train_orig, X_test_orig, Y_test_orig, classes = load_happy_dataset()\n",
    "\n",
    "# Normalize image vectors\n",
    "X_train = X_train_orig/255.\n",
    "X_test = X_test_orig/255.\n",
    "\n",
    "# Reshape\n",
    "Y_train = Y_train_orig.T\n",
    "Y_test = Y_test_orig.T\n",
    "\n",
    "print (\"number of training examples = \" + str(X_train.shape[0]))\n",
    "print (\"number of test examples = \" + str(X_test.shape[0]))\n",
    "print (\"X_train shape: \" + str(X_train.shape))\n",
    "print (\"Y_train shape: \" + str(Y_train.shape))\n",
    "print (\"X_test shape: \" + str(X_test.shape))\n",
    "print (\"Y_test shape: \" + str(Y_test.shape))"
   ]
  },
  {
   "cell_type": "markdown",
   "metadata": {},
   "source": [
    "You can display the images contained in the dataset. Images are **64x64** pixels in RGB format (3 channels)."
   ]
  },
  {
   "cell_type": "code",
   "execution_count": 3,
   "metadata": {},
   "outputs": [
    {
     "data": {
      "image/png": "[encoded data removed]",
      "text/plain": [
       "<Figure size 432x288 with 1 Axes>"
      ]
     },
     "metadata": {
      "needs_background": "light"
     },
     "output_type": "display_data"
    }
   ],
   "source": [
    "index = 124\n",
    "plt.imshow(X_train_orig[index]) #display sample training image\n",
    "plt.show()"
   ]
  },
  {
   "cell_type": "markdown",
   "metadata": {},
   "source": [
    "<a name='2'></a>\n",
    "## 2 - Layers in TF Keras \n",
    "\n",
    "In the previous assignment, you created layers manually in numpy. In TF Keras, you don't have to write code directly to create layers. Rather, TF Keras has pre-defined layers you can use. \n",
    "\n",
    "When you create a layer in TF Keras, you are creating a function that takes some input and transforms it into an output you can reuse later. Nice and easy! "
   ]
  },
  {
   "cell_type": "markdown",
   "metadata": {},
   "source": [
    "<a name='3'></a>\n",
    "## 3 - The Sequential API\n",
    "\n",
    "In the previous assignment, you built helper functions using `numpy` to understand the mechanics behind convolutional neural networks. Most practical applications of deep learning today are built using programming frameworks, which have many built-in functions you can simply call. Keras is a high-level abstraction built on top of TensorFlow, which allows for even more simplified and optimized model creation and training. \n",
    "\n",
    "For the first part of this assignment, you'll create a model using TF Keras' Sequential API, which allows you to build layer by layer, and is ideal for building models where each layer has **exactly one** input tensor and **one** output tensor. \n",
    "\n",
    "As you'll see, using the Sequential API is simple and straightforward, but is only appropriate for simpler, more straightforward tasks. Later in this notebook you'll spend some time building with a more flexible, powerful alternative: the Functional API. \n",
    " "
   ]
  },
  {
   "cell_type": "markdown",
   "metadata": {},
   "source": [
    "<a name='3-1'></a>\n",
    "### 3.1 - Create the Sequential Model\n",
    "\n",
    "As mentioned earlier, the TensorFlow Keras Sequential API can be used to build simple models with layer operations that proceed in a sequential order. \n",
    "\n",
    "You can also add layers incrementally to a Sequential model with the `.add()` method, or remove them using the `.pop()` method, much like you would in a regular Python list.\n",
    "\n",
    "Actually, you can think of a Sequential model as behaving like a list of layers. Like Python lists, Sequential layers are ordered, and the order in which they are specified matters.  If your model is non-linear or contains layers with multiple inputs or outputs, a Sequential model wouldn't be the right choice!\n",
    "\n",
    "For any layer construction in Keras, you'll need to specify the input shape in advance. This is because in Keras, the shape of the weights is based on the shape of the inputs. The weights are only created when the model first sees some input data. Sequential models can be created by passing a list of layers to the Sequential constructor, like you will do in the next assignment.\n",
    "\n",
    "<a name='ex-1'></a>\n",
    "### Exercise 1 - happyModel\n",
    "\n",
    "Implement the `happyModel` function below to build the following model: `ZEROPAD2D -> CONV2D -> BATCHNORM -> RELU -> MAXPOOL -> FLATTEN -> DENSE`. Take help from [tf.keras.layers](https://www.tensorflow.org/api_docs/python/tf/keras/layers) \n",
    "\n",
    "Also, plug in the following parameters for all the steps:\n",
    "\n",
    " - [ZeroPadding2D](https://www.tensorflow.org/api_docs/python/tf/keras/layers/ZeroPadding2D): padding 3, input shape 64 x 64 x 3\n",
    " - [Conv2D](https://www.tensorflow.org/api_docs/python/tf/keras/layers/Conv2D): Use 32 7x7 filters, stride 1\n",
    " - [BatchNormalization](https://www.tensorflow.org/api_docs/python/tf/keras/layers/BatchNormalization): for axis 3\n",
    " - [ReLU](https://www.tensorflow.org/api_docs/python/tf/keras/layers/ReLU)\n",
    " - [MaxPool2D](https://www.tensorflow.org/api_docs/python/tf/keras/layers/MaxPool2D): Using default parameters\n",
    " - [Flatten](https://www.tensorflow.org/api_docs/python/tf/keras/layers/Flatten) the previous output.\n",
    " - Fully-connected ([Dense](https://www.tensorflow.org/api_docs/python/tf/keras/layers/Dense)) layer: Apply a fully connected layer with 1 neuron and a sigmoid activation. \n",
    " \n",
    " \n",
    " **Hint:**\n",
    " \n",
    " Use **tfl** as shorthand for **tensorflow.keras.layers**"
   ]
  },
  {
   "cell_type": "code",
   "execution_count": 16,
   "metadata": {
    "deletable": false,
    "nbgrader": {
     "cell_type": "code",
     "checksum": "95d28b191f257bdd5b70c7b8952559d5",
     "grade": false,
     "grade_id": "cell-0e56d3fc28b69aec",
     "locked": false,
     "schema_version": 3,
     "solution": true,
     "task": false
    }
   },
   "outputs": [],
   "source": [
    "# GRADED FUNCTION: happyModel\n",
    "\n",
    "def happyModel():\n",
    "    \"\"\"\n",
    "    Implements the forward propagation for the binary classification model:\n",
    "    ZEROPAD2D -> CONV2D -> BATCHNORM -> RELU -> MAXPOOL -> FLATTEN -> DENSE\n",
    "    \n",
    "    Note that for simplicity and grading purposes, you'll hard-code all the values\n",
    "    such as the stride and kernel (filter) sizes. \n",
    "    Normally, functions should take these values as function parameters.\n",
    "    \n",
    "    Arguments:\n",
    "    None\n",
    "\n",
    "    Returns:\n",
    "    model -- TF Keras model (object containing the information for the entire training process) \n",
    "    \"\"\"\n",
    "    model = tf.keras.Sequential([\n",
    "            ## ZeroPadding2D with padding 3, input shape of 64 x 64 x 3\n",
    "            tf.keras.layers.ZeroPadding2D(padding=(3, 3),input_shape=(64 , 64 , 3), data_format=None),\n",
    "            ## Conv2D with 32 7x7 filters and stride of 1\n",
    "            tf.keras.layers.Conv2D(32,(7,7),strides=(1,1)),\n",
    "            ## BatchNormalization for axis 3\n",
    "            tf.keras.layers.BatchNormalization(axis = 3),\n",
    "            ## ReLU\n",
    "            tf.keras.layers.ReLU(),\n",
    "            ## Max Pooling 2D with default parameters\n",
    "            tf.keras.layers.MaxPooling2D(pool_size=(2, 2),strides=None,padding='valid',data_format=None),\n",
    "            ## Flatten layer\n",
    "            tf.keras.layers.Flatten(data_format=None),\n",
    "            ## Dense layer with 1 unit for output & 'sigmoid' activation\n",
    "            tf.keras.layers.Dense(1,activation=\"sigmoid\")\n",
    "        ])\n",
    "    \n",
    "    return model"
   ]
  },
  {
   "cell_type": "code",
   "execution_count": 17,
   "metadata": {
    "deletable": false,
    "editable": false,
    "nbgrader": {
     "cell_type": "code",
     "checksum": "8d3575c950e2e78149be2d05d671c80d",
     "grade": true,
     "grade_id": "cell-e3e1046e5c33d775",
     "locked": true,
     "points": 10,
     "schema_version": 3,
     "solution": false,
     "task": false
    }
   },
   "outputs": [
    {
     "name": "stdout",
     "output_type": "stream",
     "text": [
      "['ZeroPadding2D', (None, 70, 70, 3), 0, ((3, 3), (3, 3))]\n",
      "['Conv2D', (None, 64, 64, 32), 4736, 'valid', 'linear', 'GlorotUniform']\n",
      "['BatchNormalization', (None, 64, 64, 32), 128]\n",
      "['ReLU', (None, 64, 64, 32), 0]\n",
      "['MaxPooling2D', (None, 32, 32, 32), 0, (2, 2), (2, 2), 'valid']\n",
      "['Flatten', (None, 32768), 0]\n",
      "['Dense', (None, 1), 32769, 'sigmoid']\n",
      "\u001b[32mAll tests passed!\u001b[0m\n"
     ]
    }
   ],
   "source": [
    "happy_model = happyModel()\n",
    "# Print a summary for each layer\n",
    "for layer in summary(happy_model):\n",
    "    print(layer)\n",
    "    \n",
    "output = [['ZeroPadding2D', (None, 70, 70, 3), 0, ((3, 3), (3, 3))],\n",
    "            ['Conv2D', (None, 64, 64, 32), 4736, 'valid', 'linear', 'GlorotUniform'],\n",
    "            ['BatchNormalization', (None, 64, 64, 32), 128],\n",
    "            ['ReLU', (None, 64, 64, 32), 0],\n",
    "            ['MaxPooling2D', (None, 32, 32, 32), 0, (2, 2), (2, 2), 'valid'],\n",
    "            ['Flatten', (None, 32768), 0],\n",
    "            ['Dense', (None, 1), 32769, 'sigmoid']]\n",
    "    \n",
    "comparator(summary(happy_model), output)"
   ]
  },
  {
   "cell_type": "markdown",
   "metadata": {},
   "source": [
    "#### Expected Output:\n",
    "\n",
    "```\n",
    "['ZeroPadding2D', (None, 70, 70, 3), 0, ((3, 3), (3, 3))]\n",
    "['Conv2D', (None, 64, 64, 32), 4736, 'valid', 'linear', 'GlorotUniform']\n",
    "['BatchNormalization', (None, 64, 64, 32), 128]\n",
    "['ReLU', (None, 64, 64, 32), 0]\n",
    "['MaxPooling2D', (None, 32, 32, 32), 0, (2, 2), (2, 2), 'valid']\n",
    "['Flatten', (None, 32768), 0]\n",
    "['Dense', (None, 1), 32769, 'sigmoid']\n",
    "All tests passed!\n",
    "```"
   ]
  },
  {
   "cell_type": "markdown",
   "metadata": {},
   "source": [
    "Now that your model is created, you can compile it for training with an optimizer and loss of your choice. When the string `accuracy` is specified as a metric, the type of accuracy used will be automatically converted based on the loss function used. This is one of the many optimizations built into TensorFlow that make your life easier! If you'd like to read more on how the compiler operates, check the docs [here](https://www.tensorflow.org/api_docs/python/tf/keras/Model#compile)."
   ]
  },
  {
   "cell_type": "code",
   "execution_count": 18,
   "metadata": {},
   "outputs": [],
   "source": [
    "happy_model.compile(optimizer='adam',\n",
    "                   loss='binary_crossentropy',\n",
    "                   metrics=['accuracy'])"
   ]
  },
  {
   "cell_type": "markdown",
   "metadata": {},
   "source": [
    "It's time to check your model's parameters with the `.summary()` method. This will display the types of layers you have, the shape of the outputs, and how many parameters are in each layer. "
   ]
  },
  {
   "cell_type": "code",
   "execution_count": 19,
   "metadata": {},
   "outputs": [
    {
     "name": "stdout",
     "output_type": "stream",
     "text": [
      "Model: \"sequential_1\"\n",
      "_________________________________________________________________\n",
      "Layer (type)                 Output Shape              Param #   \n",
      "=================================================================\n",
      "zero_padding2d_4 (ZeroPaddin (None, 70, 70, 3)         0         \n",
      "_________________________________________________________________\n",
      "conv2d_1 (Conv2D)            (None, 64, 64, 32)        4736      \n",
      "_________________________________________________________________\n",
      "batch_normalization_1 (Batch (None, 64, 64, 32)        128       \n",
      "_________________________________________________________________\n",
      "re_lu_1 (ReLU)               (None, 64, 64, 32)        0         \n",
      "_________________________________________________________________\n",
      "max_pooling2d_1 (MaxPooling2 (None, 32, 32, 32)        0         \n",
      "_________________________________________________________________\n",
      "flatten_1 (Flatten)          (None, 32768)             0         \n",
      "_________________________________________________________________\n",
      "dense_1 (Dense)              (None, 1)                 32769     \n",
      "=================================================================\n",
      "Total params: 37,633\n",
      "Trainable params: 37,569\n",
      "Non-trainable params: 64\n",
      "_________________________________________________________________\n"
     ]
    }
   ],
   "source": [
    "happy_model.summary()"
   ]
  },
  {
   "cell_type": "markdown",
   "metadata": {},
   "source": [
    "<a name='3-2'></a>\n",
    "### 3.2 - Train and Evaluate the Model\n",
    "\n",
    "After creating the model, compiling it with your choice of optimizer and loss function, and doing a sanity check on its contents, you are now ready to build! \n",
    "\n",
    "Simply call `.fit()` to train. That's it! No need for mini-batching, saving, or complex backpropagation computations. That's all been done for you, as you're using a TensorFlow dataset with the batches specified already. You do have the option to specify epoch number or minibatch size if you like (for example, in the case of an un-batched dataset)."
   ]
  },
  {
   "cell_type": "code",
   "execution_count": 20,
   "metadata": {},
   "outputs": [
    {
     "name": "stdout",
     "output_type": "stream",
     "text": [
      "Epoch 1/10\n",
      "38/38 [==============================] - 4s 95ms/step - loss: 0.9256 - accuracy: 0.7300\n",
      "Epoch 2/10\n",
      "38/38 [==============================] - 3s 92ms/step - loss: 0.2063 - accuracy: 0.9233\n",
      "Epoch 3/10\n",
      "38/38 [==============================] - 3s 89ms/step - loss: 0.1797 - accuracy: 0.9333\n",
      "Epoch 4/10\n",
      "38/38 [==============================] - 3s 92ms/step - loss: 0.0872 - accuracy: 0.9700\n",
      "Epoch 5/10\n",
      "38/38 [==============================] - 3s 90ms/step - loss: 0.1364 - accuracy: 0.9483\n",
      "Epoch 6/10\n",
      "38/38 [==============================] - 3s 90ms/step - loss: 0.1738 - accuracy: 0.9333\n",
      "Epoch 7/10\n",
      "38/38 [==============================] - 3s 87ms/step - loss: 0.1091 - accuracy: 0.9567\n",
      "Epoch 8/10\n",
      "38/38 [==============================] - 3s 89ms/step - loss: 0.1316 - accuracy: 0.9500\n",
      "Epoch 9/10\n",
      "38/38 [==============================] - 3s 92ms/step - loss: 0.1576 - accuracy: 0.9417\n",
      "Epoch 10/10\n",
      "38/38 [==============================] - 3s 87ms/step - loss: 0.0832 - accuracy: 0.9750\n"
     ]
    },
    {
     "data": {
      "text/plain": [
       "<tensorflow.python.keras.callbacks.History at 0x7f2220b3cb10>"
      ]
     },
     "execution_count": 20,
     "metadata": {},
     "output_type": "execute_result"
    }
   ],
   "source": [
    "happy_model.fit(X_train, Y_train, epochs=10, batch_size=16)"
   ]
  },
  {
   "cell_type": "markdown",
   "metadata": {},
   "source": [
    "After that completes, just use `.evaluate()` to evaluate against your test set. This function will print the value of the loss function and the performance metrics specified during the compilation of the model. In this case, the `binary_crossentropy` and the `accuracy` respectively."
   ]
  },
  {
   "cell_type": "code",
   "execution_count": 21,
   "metadata": {},
   "outputs": [
    {
     "name": "stdout",
     "output_type": "stream",
     "text": [
      "5/5 [==============================] - 0s 40ms/step - loss: 0.1838 - accuracy: 0.9400\n"
     ]
    },
    {
     "data": {
      "text/plain": [
       "[0.18381035327911377, 0.9399999976158142]"
      ]
     },
     "execution_count": 21,
     "metadata": {},
     "output_type": "execute_result"
    }
   ],
   "source": [
    "happy_model.evaluate(X_test, Y_test)"
   ]
  },
  {
   "cell_type": "markdown",
   "metadata": {},
   "source": [
    "Easy, right? But what if you need to build a model with shared layers, branches, or multiple inputs and outputs? This is where Sequential, with its beautifully simple yet limited functionality, won't be able to help you. \n",
    "\n",
    "Next up: Enter the Functional API, your slightly more complex, highly flexible friend.  "
   ]
  },
  {
   "cell_type": "markdown",
   "metadata": {},
   "source": [
    "<a name='4'></a>\n",
    "## 4 - The Functional API"
   ]
  },
  {
   "cell_type": "markdown",
   "metadata": {},
   "source": [
    "Welcome to the second half of the assignment, where you'll use Keras' flexible [Functional API](https://www.tensorflow.org/guide/keras/functional) to build a ConvNet that can differentiate between 6 sign language digits. \n",
    "\n",
    "The Functional API can handle models with non-linear topology, shared layers, as well as layers with multiple inputs or outputs. Imagine that, where the Sequential API requires the model to move in a linear fashion through its layers, the Functional API allows much more flexibility. Where Sequential is a straight line, a Functional model is a graph, where the nodes of the layers can connect in many more ways than one. \n",
    "\n",
    "In the visual example below, the one possible direction of the movement Sequential model is shown in contrast to a skip connection, which is just one of the many ways a Functional model can be constructed. A skip connection, as you might have guessed, skips some layer in the network and feeds the output to a later layer in the network. Don't worry, you'll be spending more time with skip connections very soon! "
   ]
  },
  {
   "cell_type": "markdown",
   "metadata": {},
   "source": [
    "<img src=\"images/seq_vs_func.png\" style=\"width:350px;height:200px;\">"
   ]
  },
  {
   "cell_type": "markdown",
   "metadata": {},
   "source": [
    "<a name='4-1'></a>\n",
    "### 4.1 - Load the SIGNS Dataset\n",
    "\n",
    "As a reminder, the SIGNS dataset is a collection of 6 signs representing numbers from 0 to 5."
   ]
  },
  {
   "cell_type": "code",
   "execution_count": 22,
   "metadata": {},
   "outputs": [],
   "source": [
    "# Loading the data (signs)\n",
    "X_train_orig, Y_train_orig, X_test_orig, Y_test_orig, classes = load_signs_dataset()"
   ]
  },
  {
   "cell_type": "markdown",
   "metadata": {},
   "source": [
    "<img src=\"images/SIGNS.png\" style=\"width:800px;height:300px;\">\n",
    "\n",
    "The next cell will show you an example of a labelled image in the dataset. Feel free to change the value of `index` below and re-run to see different examples. "
   ]
  },
  {
   "cell_type": "code",
   "execution_count": 23,
   "metadata": {},
   "outputs": [
    {
     "name": "stdout",
     "output_type": "stream",
     "text": [
      "y = 4\n"
     ]
    },
    {
     "data": {
      "image/png": "[encoded data removed]",
      "text/plain": [
       "<Figure size 432x288 with 1 Axes>"
      ]
     },
     "metadata": {
      "needs_background": "light"
     },
     "output_type": "display_data"
    }
   ],
   "source": [
    "# Example of an image from the dataset\n",
    "index = 9\n",
    "plt.imshow(X_train_orig[index])\n",
    "print (\"y = \" + str(np.squeeze(Y_train_orig[:, index])))"
   ]
  },
  {
   "cell_type": "markdown",
   "metadata": {},
   "source": [
    "<a name='4-2'></a>\n",
    "### 4.2 - Split the Data into Train/Test Sets\n",
    "\n",
    "In Course 2, you built a fully-connected network for this dataset. But since this is an image dataset, it is more natural to apply a ConvNet to it.\n",
    "\n",
    "To get started, let's examine the shapes of your data. "
   ]
  },
  {
   "cell_type": "code",
   "execution_count": 24,
   "metadata": {},
   "outputs": [
    {
     "name": "stdout",
     "output_type": "stream",
     "text": [
      "number of training examples = 1080\n",
      "number of test examples = 120\n",
      "X_train shape: (1080, 64, 64, 3)\n",
      "Y_train shape: (1080, 6)\n",
      "X_test shape: (120, 64, 64, 3)\n",
      "Y_test shape: (120, 6)\n"
     ]
    }
   ],
   "source": [
    "X_train = X_train_orig/255.\n",
    "X_test = X_test_orig/255.\n",
    "Y_train = convert_to_one_hot(Y_train_orig, 6).T\n",
    "Y_test = convert_to_one_hot(Y_test_orig, 6).T\n",
    "print (\"number of training examples = \" + str(X_train.shape[0]))\n",
    "print (\"number of test examples = \" + str(X_test.shape[0]))\n",
    "print (\"X_train shape: \" + str(X_train.shape))\n",
    "print (\"Y_train shape: \" + str(Y_train.shape))\n",
    "print (\"X_test shape: \" + str(X_test.shape))\n",
    "print (\"Y_test shape: \" + str(Y_test.shape))"
   ]
  },
  {
   "cell_type": "markdown",
   "metadata": {},
   "source": [
    "<a name='4-3'></a>\n",
    "### 4.3 - Forward Propagation\n",
    "\n",
    "In TensorFlow, there are built-in functions that implement the convolution steps for you. By now, you should be familiar with how TensorFlow builds computational graphs. In the [Functional API](https://www.tensorflow.org/guide/keras/functional), you create a graph of layers. This is what allows such great flexibility.\n",
    "\n",
    "However, the following model could also be defined using the Sequential API since the information flow is on a single line. But don't deviate. What we want you to learn is to use the functional API.\n",
    "\n",
    "Begin building your graph of layers by creating an input node that functions as a callable object:\n",
    "\n",
    "- **input_img = tf.keras.Input(shape=input_shape):** \n",
    "\n",
    "Then, create a new node in the graph of layers by calling a layer on the `input_img` object: \n",
    "\n",
    "- **tf.keras.layers.Conv2D(filters= ... , kernel_size= ... , padding='same')(input_img):** Read the full documentation on [Conv2D](https://www.tensorflow.org/api_docs/python/tf/keras/layers/Conv2D).\n",
    "\n",
    "- **tf.keras.layers.MaxPool2D(pool_size=(f, f), strides=(s, s), padding='same'):** `MaxPool2D()` downsamples your input using a window of size (f, f) and strides of size (s, s) to carry out max pooling over each window.  For max pooling, you usually operate on a single example at a time and a single channel at a time. Read the full documentation on [MaxPool2D](https://www.tensorflow.org/api_docs/python/tf/keras/layers/MaxPool2D).\n",
    "\n",
    "- **tf.keras.layers.ReLU():** computes the elementwise ReLU of Z (which can be any shape). You can read the full documentation on [ReLU](https://www.tensorflow.org/api_docs/python/tf/keras/layers/ReLU).\n",
    "\n",
    "- **tf.keras.layers.Flatten()**: given a tensor \"P\", this function takes each training (or test) example in the batch and flattens it into a 1D vector.  \n",
    "\n",
    "    * If a tensor P has the shape (batch_size,h,w,c), it returns a flattened tensor with shape (batch_size, k), where $k=h \\times w \\times c$.  \"k\" equals the product of all the dimension sizes other than the first dimension.\n",
    "    \n",
    "    * For example, given a tensor with dimensions [100, 2, 3, 4], it flattens the tensor to be of shape [100, 24], where 24 = 2 * 3 * 4.  You can read the full documentation on [Flatten](https://www.tensorflow.org/api_docs/python/tf/keras/layers/Flatten).\n",
    "\n",
    "- **tf.keras.layers.Dense(units= ... , activation='softmax')(F):** given the flattened input F, it returns the output computed using a fully connected layer. You can read the full documentation on [Dense](https://www.tensorflow.org/api_docs/python/tf/keras/layers/Dense).\n",
    "\n",
    "In the last function above (`tf.keras.layers.Dense()`), the fully connected layer automatically initializes weights in the graph and keeps on training them as you train the model. Hence, you did not need to initialize those weights when initializing the parameters.\n",
    "\n",
    "Lastly, before creating the model, you'll need to define the output using the last of the function's compositions (in this example, a Dense layer): \n",
    "\n",
    "- **outputs = tf.keras.layers.Dense(units=6, activation='softmax')(F)**\n",
    "\n",
    "\n",
    "#### Window, kernel, filter, pool\n",
    "\n",
    "The words \"kernel\" and \"filter\" are used to refer to the same thing. The word \"filter\" accounts for the amount of \"kernels\" that will be used in a single convolution layer. \"Pool\" is the name of the operation that takes the max or average value of the kernels. \n",
    "\n",
    "This is why the parameter `pool_size` refers to `kernel_size`, and you use `(f,f)` to refer to the filter size. \n",
    "\n",
    "Pool size and kernel size refer to the same thing in different objects - They refer to the shape of the window where the operation takes place. "
   ]
  },
  {
   "cell_type": "markdown",
   "metadata": {},
   "source": [
    "<a name='ex-2'></a>\n",
    "### Exercise 2 - convolutional_model\n",
    "\n",
    "Implement the `convolutional_model` function below to build the following model: `CONV2D -> RELU -> MAXPOOL -> CONV2D -> RELU -> MAXPOOL -> FLATTEN -> DENSE`. Use the functions above! \n",
    "\n",
    "Also, plug in the following parameters for all the steps:\n",
    "\n",
    " - [Conv2D](https://www.tensorflow.org/api_docs/python/tf/keras/layers/Conv2D): Use 8 4 by 4 filters, stride 1, padding is \"SAME\"\n",
    " - [ReLU](https://www.tensorflow.org/api_docs/python/tf/keras/layers/ReLU)\n",
    " - [MaxPool2D](https://www.tensorflow.org/api_docs/python/tf/keras/layers/MaxPool2D): Use an 8 by 8 filter size and an 8 by 8 stride, padding is \"SAME\"\n",
    " - **Conv2D**: Use 16 2 by 2 filters, stride 1, padding is \"SAME\"\n",
    " - **ReLU**\n",
    " - **MaxPool2D**: Use a 4 by 4 filter size and a 4 by 4 stride, padding is \"SAME\"\n",
    " - [Flatten](https://www.tensorflow.org/api_docs/python/tf/keras/layers/Flatten) the previous output.\n",
    " - Fully-connected ([Dense](https://www.tensorflow.org/api_docs/python/tf/keras/layers/Dense)) layer: Apply a fully connected layer with 6 neurons and a softmax activation. "
   ]
  },
  {
   "cell_type": "code",
   "execution_count": 25,
   "metadata": {
    "deletable": false,
    "nbgrader": {
     "cell_type": "code",
     "checksum": "f58643806aa8380c96225fc8b4c5e7aa",
     "grade": false,
     "grade_id": "cell-dac51744a9e03f51",
     "locked": false,
     "schema_version": 3,
     "solution": true,
     "task": false
    }
   },
   "outputs": [],
   "source": [
    "# GRADED FUNCTION: convolutional_model\n",
    "\n",
    "def convolutional_model(input_shape):\n",
    "    \"\"\"\n",
    "    Implements the forward propagation for the model:\n",
    "    CONV2D -> RELU -> MAXPOOL -> CONV2D -> RELU -> MAXPOOL -> FLATTEN -> DENSE\n",
    "    \n",
    "    Note that for simplicity and grading purposes, you'll hard-code some values\n",
    "    such as the stride and kernel (filter) sizes. \n",
    "    Normally, functions should take these values as function parameters.\n",
    "    \n",
    "    Arguments:\n",
    "    input_img -- input dataset, of shape (input_shape)\n",
    "\n",
    "    Returns:\n",
    "    model -- TF Keras model (object containing the information for the entire training process) \n",
    "    \"\"\"\n",
    "\n",
    "    input_img = tf.keras.Input(shape=input_shape)\n",
    "    ## CONV2D: 8 filters 4x4, stride of 1, padding 'SAME'\n",
    "    # Z1 = None\n",
    "    ## RELU\n",
    "    # A1 = None\n",
    "    ## MAXPOOL: window 8x8, stride 8, padding 'SAME'\n",
    "    # P1 = None\n",
    "    ## CONV2D: 16 filters 2x2, stride 1, padding 'SAME'\n",
    "    # Z2 = None\n",
    "    ## RELU\n",
    "    # A2 = None\n",
    "    ## MAXPOOL: window 4x4, stride 4, padding 'SAME'\n",
    "    # P2 = None\n",
    "    ## FLATTEN\n",
    "    # F = None\n",
    "    ## Dense layer\n",
    "    ## 6 neurons in output layer. Hint: one of the arguments should be \"activation='softmax'\" \n",
    "    # outputs = None\n",
    "    # YOUR CODE STARTS HERE\n",
    "    Z1 = tf.keras.layers.Conv2D(filters=8 , kernel_size= (4,4) , padding='same')(input_img)\n",
    "    A1 = tf.keras.layers.ReLU()(Z1)\n",
    "    P1 = tf.keras.layers.MaxPool2D(pool_size=(8, 8), strides=(8, 8), padding='same')(A1)\n",
    "    Z2 = tf.keras.layers.Conv2D(filters= 16 , kernel_size= (2,2) , padding='same')(P1)\n",
    "    A2 = tf.keras.layers.ReLU()(Z2)\n",
    "    P2 = tf.keras.layers.MaxPool2D(pool_size=(4, 4), strides=(4, 4), padding='same')(A2)\n",
    "    F = tf.keras.layers.Flatten()(P2)\n",
    "    outputs = tf.keras.layers.Dense(units= 6 , activation='softmax')(F)\n",
    "    # YOUR CODE ENDS HERE\n",
    "    model = tf.keras.Model(inputs=input_img, outputs=outputs)\n",
    "    return model"
   ]
  },
  {
   "cell_type": "code",
   "execution_count": 26,
   "metadata": {
    "deletable": false,
    "editable": false,
    "nbgrader": {
     "cell_type": "code",
     "checksum": "483d626949930a0b0ef20997e7c6ba72",
     "grade": true,
     "grade_id": "cell-45d22e92042174c9",
     "locked": true,
     "points": 10,
     "schema_version": 3,
     "solution": false,
     "task": false
    }
   },
   "outputs": [
    {
     "name": "stdout",
     "output_type": "stream",
     "text": [
      "Model: \"functional_1\"\n",
      "_________________________________________________________________\n",
      "Layer (type)                 Output Shape              Param #   \n",
      "=================================================================\n",
      "input_1 (InputLayer)         [(None, 64, 64, 3)]       0         \n",
      "_________________________________________________________________\n",
      "conv2d_2 (Conv2D)            (None, 64, 64, 8)         392       \n",
      "_________________________________________________________________\n",
      "re_lu_2 (ReLU)               (None, 64, 64, 8)         0         \n",
      "_________________________________________________________________\n",
      "max_pooling2d_2 (MaxPooling2 (None, 8, 8, 8)           0         \n",
      "_________________________________________________________________\n",
      "conv2d_3 (Conv2D)            (None, 8, 8, 16)          528       \n",
      "_________________________________________________________________\n",
      "re_lu_3 (ReLU)               (None, 8, 8, 16)          0         \n",
      "_________________________________________________________________\n",
      "max_pooling2d_3 (MaxPooling2 (None, 2, 2, 16)          0         \n",
      "_________________________________________________________________\n",
      "flatten_2 (Flatten)          (None, 64)                0         \n",
      "_________________________________________________________________\n",
      "dense_2 (Dense)              (None, 6)                 390       \n",
      "=================================================================\n",
      "Total params: 1,310\n",
      "Trainable params: 1,310\n",
      "Non-trainable params: 0\n",
      "_________________________________________________________________\n",
      "\u001b[32mAll tests passed!\u001b[0m\n"
     ]
    }
   ],
   "source": [
    "conv_model = convolutional_model((64, 64, 3))\n",
    "conv_model.compile(optimizer='adam',\n",
    "                  loss='categorical_crossentropy',\n",
    "                  metrics=['accuracy'])\n",
    "conv_model.summary()\n",
    "    \n",
    "output = [['InputLayer', [(None, 64, 64, 3)], 0],\n",
    "        ['Conv2D', (None, 64, 64, 8), 392, 'same', 'linear', 'GlorotUniform'],\n",
    "        ['ReLU', (None, 64, 64, 8), 0],\n",
    "        ['MaxPooling2D', (None, 8, 8, 8), 0, (8, 8), (8, 8), 'same'],\n",
    "        ['Conv2D', (None, 8, 8, 16), 528, 'same', 'linear', 'GlorotUniform'],\n",
    "        ['ReLU', (None, 8, 8, 16), 0],\n",
    "        ['MaxPooling2D', (None, 2, 2, 16), 0, (4, 4), (4, 4), 'same'],\n",
    "        ['Flatten', (None, 64), 0],\n",
    "        ['Dense', (None, 6), 390, 'softmax']]\n",
    "    \n",
    "comparator(summary(conv_model), output)"
   ]
  },
  {
   "cell_type": "markdown",
   "metadata": {},
   "source": [
    "Both the Sequential and Functional APIs return a TF Keras model object. The only difference is how inputs are handled inside the object model! "
   ]
  },
  {
   "cell_type": "markdown",
   "metadata": {},
   "source": [
    "<a name='4-4'></a>\n",
    "### 4.4 - Train the Model"
   ]
  },
  {
   "cell_type": "code",
   "execution_count": 30,
   "metadata": {},
   "outputs": [
    {
     "name": "stdout",
     "output_type": "stream",
     "text": [
      "Epoch 1/100\n",
      "17/17 [==============================] - 2s 95ms/step - loss: 0.4196 - accuracy: 0.8657 - val_loss: 0.5041 - val_accuracy: 0.8000\n",
      "Epoch 2/100\n",
      "17/17 [==============================] - 2s 100ms/step - loss: 0.4160 - accuracy: 0.8657 - val_loss: 0.5014 - val_accuracy: 0.8000\n",
      "Epoch 3/100\n",
      "17/17 [==============================] - 2s 100ms/step - loss: 0.4124 - accuracy: 0.8676 - val_loss: 0.4981 - val_accuracy: 0.8000\n",
      "Epoch 4/100\n",
      "17/17 [==============================] - 2s 101ms/step - loss: 0.4087 - accuracy: 0.8722 - val_loss: 0.4953 - val_accuracy: 0.8000\n",
      "Epoch 5/100\n",
      "17/17 [==============================] - 2s 96ms/step - loss: 0.4052 - accuracy: 0.8750 - val_loss: 0.4923 - val_accuracy: 0.8000\n",
      "Epoch 6/100\n",
      "17/17 [==============================] - 2s 100ms/step - loss: 0.4016 - accuracy: 0.8796 - val_loss: 0.4894 - val_accuracy: 0.8083\n",
      "Epoch 7/100\n",
      "17/17 [==============================] - 2s 100ms/step - loss: 0.3984 - accuracy: 0.8824 - val_loss: 0.4867 - val_accuracy: 0.8167\n",
      "Epoch 8/100\n",
      "17/17 [==============================] - 2s 95ms/step - loss: 0.3945 - accuracy: 0.8843 - val_loss: 0.4835 - val_accuracy: 0.8167\n",
      "Epoch 9/100\n",
      "17/17 [==============================] - 2s 100ms/step - loss: 0.3913 - accuracy: 0.8852 - val_loss: 0.4806 - val_accuracy: 0.8250\n",
      "Epoch 10/100\n",
      "17/17 [==============================] - 2s 100ms/step - loss: 0.3878 - accuracy: 0.8824 - val_loss: 0.4775 - val_accuracy: 0.8250\n",
      "Epoch 11/100\n",
      "17/17 [==============================] - 2s 100ms/step - loss: 0.3848 - accuracy: 0.8852 - val_loss: 0.4751 - val_accuracy: 0.8250\n",
      "Epoch 12/100\n",
      "17/17 [==============================] - 2s 100ms/step - loss: 0.3811 - accuracy: 0.8861 - val_loss: 0.4727 - val_accuracy: 0.8250\n",
      "Epoch 13/100\n",
      "17/17 [==============================] - 2s 95ms/step - loss: 0.3783 - accuracy: 0.8880 - val_loss: 0.4702 - val_accuracy: 0.8250\n",
      "Epoch 14/100\n",
      "17/17 [==============================] - 2s 100ms/step - loss: 0.3748 - accuracy: 0.8880 - val_loss: 0.4670 - val_accuracy: 0.8250\n",
      "Epoch 15/100\n",
      "17/17 [==============================] - 2s 100ms/step - loss: 0.3716 - accuracy: 0.8898 - val_loss: 0.4651 - val_accuracy: 0.8250\n",
      "Epoch 16/100\n",
      "17/17 [==============================] - 2s 100ms/step - loss: 0.3686 - accuracy: 0.8907 - val_loss: 0.4626 - val_accuracy: 0.8250\n",
      "Epoch 17/100\n",
      "17/17 [==============================] - 2s 100ms/step - loss: 0.3654 - accuracy: 0.8889 - val_loss: 0.4595 - val_accuracy: 0.8250\n",
      "Epoch 18/100\n",
      "17/17 [==============================] - 2s 101ms/step - loss: 0.3625 - accuracy: 0.8917 - val_loss: 0.4566 - val_accuracy: 0.8250\n",
      "Epoch 19/100\n",
      "17/17 [==============================] - 2s 100ms/step - loss: 0.3595 - accuracy: 0.8935 - val_loss: 0.4545 - val_accuracy: 0.8167\n",
      "Epoch 20/100\n",
      "17/17 [==============================] - 2s 100ms/step - loss: 0.3565 - accuracy: 0.8963 - val_loss: 0.4521 - val_accuracy: 0.8250\n",
      "Epoch 21/100\n",
      "17/17 [==============================] - 2s 96ms/step - loss: 0.3534 - accuracy: 0.8991 - val_loss: 0.4498 - val_accuracy: 0.8167\n",
      "Epoch 22/100\n",
      "17/17 [==============================] - 2s 95ms/step - loss: 0.3507 - accuracy: 0.9000 - val_loss: 0.4479 - val_accuracy: 0.8250\n",
      "Epoch 23/100\n",
      "17/17 [==============================] - 2s 95ms/step - loss: 0.3475 - accuracy: 0.9009 - val_loss: 0.4450 - val_accuracy: 0.8250\n",
      "Epoch 24/100\n",
      "17/17 [==============================] - 2s 100ms/step - loss: 0.3448 - accuracy: 0.9009 - val_loss: 0.4431 - val_accuracy: 0.8250\n",
      "Epoch 25/100\n",
      "17/17 [==============================] - 2s 100ms/step - loss: 0.3420 - accuracy: 0.9009 - val_loss: 0.4403 - val_accuracy: 0.8250\n",
      "Epoch 26/100\n",
      "17/17 [==============================] - 2s 100ms/step - loss: 0.3393 - accuracy: 0.9019 - val_loss: 0.4385 - val_accuracy: 0.8333\n",
      "Epoch 27/100\n",
      "17/17 [==============================] - 2s 100ms/step - loss: 0.3364 - accuracy: 0.9019 - val_loss: 0.4364 - val_accuracy: 0.8333\n",
      "Epoch 28/100\n",
      "17/17 [==============================] - 2s 100ms/step - loss: 0.3340 - accuracy: 0.9009 - val_loss: 0.4338 - val_accuracy: 0.8333\n",
      "Epoch 29/100\n",
      "17/17 [==============================] - 2s 95ms/step - loss: 0.3313 - accuracy: 0.9019 - val_loss: 0.4317 - val_accuracy: 0.8333\n",
      "Epoch 30/100\n",
      "17/17 [==============================] - 2s 100ms/step - loss: 0.3286 - accuracy: 0.9028 - val_loss: 0.4291 - val_accuracy: 0.8333\n",
      "Epoch 31/100\n",
      "17/17 [==============================] - 2s 101ms/step - loss: 0.3258 - accuracy: 0.9019 - val_loss: 0.4268 - val_accuracy: 0.8333\n",
      "Epoch 32/100\n",
      "17/17 [==============================] - 2s 100ms/step - loss: 0.3231 - accuracy: 0.9037 - val_loss: 0.4238 - val_accuracy: 0.8333\n",
      "Epoch 33/100\n",
      "17/17 [==============================] - 2s 101ms/step - loss: 0.3207 - accuracy: 0.9046 - val_loss: 0.4222 - val_accuracy: 0.8333\n",
      "Epoch 34/100\n",
      "17/17 [==============================] - 2s 96ms/step - loss: 0.3181 - accuracy: 0.9065 - val_loss: 0.4201 - val_accuracy: 0.8333\n",
      "Epoch 35/100\n",
      "17/17 [==============================] - 2s 100ms/step - loss: 0.3155 - accuracy: 0.9093 - val_loss: 0.4174 - val_accuracy: 0.8500\n",
      "Epoch 36/100\n",
      "17/17 [==============================] - 2s 101ms/step - loss: 0.3130 - accuracy: 0.9102 - val_loss: 0.4153 - val_accuracy: 0.8583\n",
      "Epoch 37/100\n",
      "17/17 [==============================] - 2s 95ms/step - loss: 0.3104 - accuracy: 0.9102 - val_loss: 0.4133 - val_accuracy: 0.8583\n",
      "Epoch 38/100\n",
      "17/17 [==============================] - 2s 100ms/step - loss: 0.3079 - accuracy: 0.9120 - val_loss: 0.4111 - val_accuracy: 0.8583\n",
      "Epoch 39/100\n",
      "17/17 [==============================] - 2s 100ms/step - loss: 0.3055 - accuracy: 0.9139 - val_loss: 0.4083 - val_accuracy: 0.8583\n",
      "Epoch 40/100\n",
      "17/17 [==============================] - 2s 100ms/step - loss: 0.3030 - accuracy: 0.9139 - val_loss: 0.4071 - val_accuracy: 0.8583\n",
      "Epoch 41/100\n",
      "17/17 [==============================] - 2s 96ms/step - loss: 0.3004 - accuracy: 0.9148 - val_loss: 0.4047 - val_accuracy: 0.8583\n",
      "Epoch 42/100\n",
      "17/17 [==============================] - 2s 95ms/step - loss: 0.2982 - accuracy: 0.9148 - val_loss: 0.4025 - val_accuracy: 0.8667\n",
      "Epoch 43/100\n",
      "17/17 [==============================] - 2s 101ms/step - loss: 0.2960 - accuracy: 0.9148 - val_loss: 0.4005 - val_accuracy: 0.8667\n",
      "Epoch 44/100\n",
      "17/17 [==============================] - 2s 94ms/step - loss: 0.2937 - accuracy: 0.9157 - val_loss: 0.3993 - val_accuracy: 0.8667\n",
      "Epoch 45/100\n",
      "17/17 [==============================] - 2s 96ms/step - loss: 0.2913 - accuracy: 0.9176 - val_loss: 0.3969 - val_accuracy: 0.8667\n",
      "Epoch 46/100\n",
      "17/17 [==============================] - 2s 100ms/step - loss: 0.2892 - accuracy: 0.9194 - val_loss: 0.3958 - val_accuracy: 0.8667\n",
      "Epoch 47/100\n",
      "17/17 [==============================] - 2s 100ms/step - loss: 0.2871 - accuracy: 0.9194 - val_loss: 0.3934 - val_accuracy: 0.8667\n",
      "Epoch 48/100\n",
      "17/17 [==============================] - 2s 105ms/step - loss: 0.2850 - accuracy: 0.9222 - val_loss: 0.3931 - val_accuracy: 0.8667\n",
      "Epoch 49/100\n",
      "17/17 [==============================] - 2s 100ms/step - loss: 0.2828 - accuracy: 0.9213 - val_loss: 0.3902 - val_accuracy: 0.8667\n",
      "Epoch 50/100\n",
      "17/17 [==============================] - 2s 100ms/step - loss: 0.2807 - accuracy: 0.9231 - val_loss: 0.3901 - val_accuracy: 0.8667\n",
      "Epoch 51/100\n",
      "17/17 [==============================] - 2s 94ms/step - loss: 0.2784 - accuracy: 0.9241 - val_loss: 0.3875 - val_accuracy: 0.8667\n",
      "Epoch 52/100\n",
      "17/17 [==============================] - 2s 95ms/step - loss: 0.2763 - accuracy: 0.9241 - val_loss: 0.3871 - val_accuracy: 0.8667\n",
      "Epoch 53/100\n",
      "17/17 [==============================] - 2s 100ms/step - loss: 0.2742 - accuracy: 0.9241 - val_loss: 0.3843 - val_accuracy: 0.8667\n",
      "Epoch 54/100\n",
      "17/17 [==============================] - 2s 100ms/step - loss: 0.2725 - accuracy: 0.9241 - val_loss: 0.3841 - val_accuracy: 0.8667\n",
      "Epoch 55/100\n",
      "17/17 [==============================] - 2s 96ms/step - loss: 0.2703 - accuracy: 0.9250 - val_loss: 0.3812 - val_accuracy: 0.8667\n",
      "Epoch 56/100\n",
      "17/17 [==============================] - 2s 101ms/step - loss: 0.2683 - accuracy: 0.9250 - val_loss: 0.3808 - val_accuracy: 0.8667\n",
      "Epoch 57/100\n",
      "17/17 [==============================] - 2s 101ms/step - loss: 0.2663 - accuracy: 0.9259 - val_loss: 0.3783 - val_accuracy: 0.8667\n",
      "Epoch 58/100\n",
      "17/17 [==============================] - 2s 100ms/step - loss: 0.2644 - accuracy: 0.9259 - val_loss: 0.3779 - val_accuracy: 0.8667\n",
      "Epoch 59/100\n",
      "17/17 [==============================] - 2s 100ms/step - loss: 0.2622 - accuracy: 0.9259 - val_loss: 0.3756 - val_accuracy: 0.8667\n",
      "Epoch 60/100\n",
      "17/17 [==============================] - 2s 95ms/step - loss: 0.2605 - accuracy: 0.9269 - val_loss: 0.3740 - val_accuracy: 0.8667\n",
      "Epoch 61/100\n",
      "17/17 [==============================] - 2s 96ms/step - loss: 0.2585 - accuracy: 0.9259 - val_loss: 0.3725 - val_accuracy: 0.8667\n",
      "Epoch 62/100\n",
      "17/17 [==============================] - 2s 95ms/step - loss: 0.2569 - accuracy: 0.9259 - val_loss: 0.3711 - val_accuracy: 0.8667\n",
      "Epoch 63/100\n",
      "17/17 [==============================] - 2s 95ms/step - loss: 0.2552 - accuracy: 0.9259 - val_loss: 0.3708 - val_accuracy: 0.8667\n",
      "Epoch 64/100\n",
      "17/17 [==============================] - 2s 100ms/step - loss: 0.2533 - accuracy: 0.9259 - val_loss: 0.3688 - val_accuracy: 0.8667\n",
      "Epoch 65/100\n",
      "17/17 [==============================] - 2s 100ms/step - loss: 0.2517 - accuracy: 0.9259 - val_loss: 0.3673 - val_accuracy: 0.8667\n",
      "Epoch 66/100\n",
      "17/17 [==============================] - 2s 100ms/step - loss: 0.2500 - accuracy: 0.9269 - val_loss: 0.3657 - val_accuracy: 0.8667\n",
      "Epoch 67/100\n",
      "17/17 [==============================] - 2s 95ms/step - loss: 0.2485 - accuracy: 0.9278 - val_loss: 0.3654 - val_accuracy: 0.8667\n",
      "Epoch 68/100\n",
      "17/17 [==============================] - 2s 100ms/step - loss: 0.2465 - accuracy: 0.9269 - val_loss: 0.3626 - val_accuracy: 0.8667\n",
      "Epoch 69/100\n",
      "17/17 [==============================] - 2s 100ms/step - loss: 0.2449 - accuracy: 0.9287 - val_loss: 0.3624 - val_accuracy: 0.8667\n",
      "Epoch 70/100\n",
      "17/17 [==============================] - 2s 101ms/step - loss: 0.2433 - accuracy: 0.9306 - val_loss: 0.3605 - val_accuracy: 0.8667\n",
      "Epoch 71/100\n",
      "17/17 [==============================] - 2s 100ms/step - loss: 0.2417 - accuracy: 0.9306 - val_loss: 0.3593 - val_accuracy: 0.8667\n",
      "Epoch 72/100\n",
      "17/17 [==============================] - 2s 95ms/step - loss: 0.2399 - accuracy: 0.9315 - val_loss: 0.3578 - val_accuracy: 0.8667\n",
      "Epoch 73/100\n",
      "17/17 [==============================] - 2s 95ms/step - loss: 0.2383 - accuracy: 0.9315 - val_loss: 0.3567 - val_accuracy: 0.8667\n",
      "Epoch 74/100\n",
      "17/17 [==============================] - 2s 100ms/step - loss: 0.2367 - accuracy: 0.9324 - val_loss: 0.3550 - val_accuracy: 0.8667\n",
      "Epoch 75/100\n",
      "17/17 [==============================] - 2s 100ms/step - loss: 0.2355 - accuracy: 0.9324 - val_loss: 0.3549 - val_accuracy: 0.8667\n",
      "Epoch 76/100\n",
      "17/17 [==============================] - 2s 100ms/step - loss: 0.2337 - accuracy: 0.9333 - val_loss: 0.3533 - val_accuracy: 0.8667\n",
      "Epoch 77/100\n",
      "17/17 [==============================] - 2s 101ms/step - loss: 0.2322 - accuracy: 0.9333 - val_loss: 0.3529 - val_accuracy: 0.8667\n",
      "Epoch 78/100\n",
      "17/17 [==============================] - 2s 100ms/step - loss: 0.2303 - accuracy: 0.9352 - val_loss: 0.3512 - val_accuracy: 0.8583\n",
      "Epoch 79/100\n",
      "17/17 [==============================] - 2s 95ms/step - loss: 0.2293 - accuracy: 0.9352 - val_loss: 0.3508 - val_accuracy: 0.8583\n",
      "Epoch 80/100\n",
      "17/17 [==============================] - 2s 100ms/step - loss: 0.2278 - accuracy: 0.9361 - val_loss: 0.3488 - val_accuracy: 0.8583\n",
      "Epoch 81/100\n",
      "17/17 [==============================] - 2s 100ms/step - loss: 0.2264 - accuracy: 0.9352 - val_loss: 0.3494 - val_accuracy: 0.8583\n",
      "Epoch 82/100\n",
      "17/17 [==============================] - 2s 100ms/step - loss: 0.2243 - accuracy: 0.9361 - val_loss: 0.3480 - val_accuracy: 0.8500\n",
      "Epoch 83/100\n",
      "17/17 [==============================] - 2s 100ms/step - loss: 0.2229 - accuracy: 0.9380 - val_loss: 0.3468 - val_accuracy: 0.8500\n",
      "Epoch 84/100\n",
      "17/17 [==============================] - 2s 95ms/step - loss: 0.2216 - accuracy: 0.9380 - val_loss: 0.3457 - val_accuracy: 0.8500\n",
      "Epoch 85/100\n",
      "17/17 [==============================] - 2s 95ms/step - loss: 0.2201 - accuracy: 0.9389 - val_loss: 0.3451 - val_accuracy: 0.8500\n",
      "Epoch 86/100\n",
      "17/17 [==============================] - 2s 100ms/step - loss: 0.2189 - accuracy: 0.9389 - val_loss: 0.3439 - val_accuracy: 0.8500\n",
      "Epoch 87/100\n",
      "17/17 [==============================] - 2s 102ms/step - loss: 0.2171 - accuracy: 0.9417 - val_loss: 0.3428 - val_accuracy: 0.8500\n",
      "Epoch 88/100\n",
      "17/17 [==============================] - 2s 96ms/step - loss: 0.2159 - accuracy: 0.9407 - val_loss: 0.3422 - val_accuracy: 0.8500\n",
      "Epoch 89/100\n",
      "17/17 [==============================] - 2s 100ms/step - loss: 0.2147 - accuracy: 0.9407 - val_loss: 0.3413 - val_accuracy: 0.8500\n",
      "Epoch 90/100\n",
      "17/17 [==============================] - 2s 100ms/step - loss: 0.2132 - accuracy: 0.9417 - val_loss: 0.3401 - val_accuracy: 0.8500\n",
      "Epoch 91/100\n",
      "17/17 [==============================] - 2s 100ms/step - loss: 0.2118 - accuracy: 0.9417 - val_loss: 0.3402 - val_accuracy: 0.8500\n",
      "Epoch 92/100\n",
      "17/17 [==============================] - 2s 95ms/step - loss: 0.2104 - accuracy: 0.9426 - val_loss: 0.3389 - val_accuracy: 0.8500\n",
      "Epoch 93/100\n",
      "17/17 [==============================] - 2s 95ms/step - loss: 0.2090 - accuracy: 0.9444 - val_loss: 0.3380 - val_accuracy: 0.8500\n",
      "Epoch 94/100\n",
      "17/17 [==============================] - 2s 95ms/step - loss: 0.2077 - accuracy: 0.9444 - val_loss: 0.3365 - val_accuracy: 0.8500\n",
      "Epoch 95/100\n",
      "17/17 [==============================] - 2s 96ms/step - loss: 0.2065 - accuracy: 0.9454 - val_loss: 0.3366 - val_accuracy: 0.8417\n",
      "Epoch 96/100\n",
      "17/17 [==============================] - 2s 100ms/step - loss: 0.2050 - accuracy: 0.9463 - val_loss: 0.3347 - val_accuracy: 0.8417\n",
      "Epoch 97/100\n",
      "17/17 [==============================] - 2s 100ms/step - loss: 0.2033 - accuracy: 0.9463 - val_loss: 0.3347 - val_accuracy: 0.8417\n",
      "Epoch 98/100\n",
      "17/17 [==============================] - 2s 100ms/step - loss: 0.2021 - accuracy: 0.9472 - val_loss: 0.3319 - val_accuracy: 0.8500\n",
      "Epoch 99/100\n",
      "17/17 [==============================] - 2s 95ms/step - loss: 0.2010 - accuracy: 0.9463 - val_loss: 0.3339 - val_accuracy: 0.8417\n",
      "Epoch 100/100\n",
      "17/17 [==============================] - 2s 100ms/step - loss: 0.1994 - accuracy: 0.9491 - val_loss: 0.3312 - val_accuracy: 0.8417\n"
     ]
    }
   ],
   "source": [
    "train_dataset = tf.data.Dataset.from_tensor_slices((X_train, Y_train)).batch(64)\n",
    "test_dataset = tf.data.Dataset.from_tensor_slices((X_test, Y_test)).batch(64)\n",
    "history = conv_model.fit(train_dataset, epochs=100, validation_data=test_dataset)"
   ]
  },
  {
   "cell_type": "markdown",
   "metadata": {},
   "source": [
    "<a name='5'></a>\n",
    "## 5 - History Object \n",
    "\n",
    "The history object is an output of the `.fit()` operation, and provides a record of all the loss and metric values in memory. It's stored as a dictionary that you can retrieve at `history.history`: "
   ]
  },
  {
   "cell_type": "code",
   "execution_count": 31,
   "metadata": {},
   "outputs": [
    {
     "data": {
      "text/plain": [
       "{'loss': [0.4195907413959503,\n",
       "  0.41597995162010193,\n",
       "  0.4124491810798645,\n",
       "  0.40870288014411926,\n",
       "  0.4052121639251709,\n",
       "  0.4016023278236389,\n",
       "  0.39842286705970764,\n",
       "  0.39454561471939087,\n",
       "  0.3913107216358185,\n",
       "  0.38778629899024963,\n",
       "  0.3847668766975403,\n",
       "  0.3811436891555786,\n",
       "  0.3782561421394348,\n",
       "  0.3748178780078888,\n",
       "  0.3716387152671814,\n",
       "  0.3685624301433563,\n",
       "  0.36536282300949097,\n",
       "  0.36250248551368713,\n",
       "  0.35949280858039856,\n",
       "  0.35654518008232117,\n",
       "  0.3534047305583954,\n",
       "  0.3506505787372589,\n",
       "  0.34753739833831787,\n",
       "  0.3448083996772766,\n",
       "  0.3419926166534424,\n",
       "  0.3393397927284241,\n",
       "  0.33638641238212585,\n",
       "  0.33397114276885986,\n",
       "  0.33126309514045715,\n",
       "  0.32858818769454956,\n",
       "  0.32581788301467896,\n",
       "  0.3231152892112732,\n",
       "  0.32065609097480774,\n",
       "  0.31810322403907776,\n",
       "  0.3155304491519928,\n",
       "  0.3129549026489258,\n",
       "  0.3103554844856262,\n",
       "  0.307875394821167,\n",
       "  0.30549296736717224,\n",
       "  0.30300629138946533,\n",
       "  0.3004182279109955,\n",
       "  0.29820388555526733,\n",
       "  0.295968621969223,\n",
       "  0.293715238571167,\n",
       "  0.2912578284740448,\n",
       "  0.2892453372478485,\n",
       "  0.28705859184265137,\n",
       "  0.2850096523761749,\n",
       "  0.28281494975090027,\n",
       "  0.2806969881057739,\n",
       "  0.2784288227558136,\n",
       "  0.2763398587703705,\n",
       "  0.2741754651069641,\n",
       "  0.27250152826309204,\n",
       "  0.2702765464782715,\n",
       "  0.26834607124328613,\n",
       "  0.266307532787323,\n",
       "  0.2643958628177643,\n",
       "  0.2622419595718384,\n",
       "  0.2605140507221222,\n",
       "  0.2585355043411255,\n",
       "  0.2568625211715698,\n",
       "  0.25520116090774536,\n",
       "  0.2533473074436188,\n",
       "  0.2517276704311371,\n",
       "  0.25000354647636414,\n",
       "  0.2484665811061859,\n",
       "  0.24648411571979523,\n",
       "  0.24494564533233643,\n",
       "  0.2433173805475235,\n",
       "  0.24168294668197632,\n",
       "  0.2399214804172516,\n",
       "  0.23833341896533966,\n",
       "  0.23671960830688477,\n",
       "  0.23553721606731415,\n",
       "  0.23374119400978088,\n",
       "  0.23223651945590973,\n",
       "  0.23033788800239563,\n",
       "  0.22931505739688873,\n",
       "  0.22780121862888336,\n",
       "  0.22640149295330048,\n",
       "  0.22432374954223633,\n",
       "  0.2229028046131134,\n",
       "  0.22159937024116516,\n",
       "  0.2201167643070221,\n",
       "  0.21886348724365234,\n",
       "  0.21713656187057495,\n",
       "  0.2159365713596344,\n",
       "  0.2146521657705307,\n",
       "  0.21320399641990662,\n",
       "  0.21179690957069397,\n",
       "  0.21043919026851654,\n",
       "  0.208953857421875,\n",
       "  0.2077309489250183,\n",
       "  0.20647193491458893,\n",
       "  0.2049674093723297,\n",
       "  0.20334915816783905,\n",
       "  0.20212498307228088,\n",
       "  0.2009848803281784,\n",
       "  0.19942712783813477],\n",
       " 'accuracy': [0.8657407164573669,\n",
       "  0.8657407164573669,\n",
       "  0.8675925731658936,\n",
       "  0.8722222447395325,\n",
       "  0.875,\n",
       "  0.8796296119689941,\n",
       "  0.8824074268341064,\n",
       "  0.8842592835426331,\n",
       "  0.885185182094574,\n",
       "  0.8824074268341064,\n",
       "  0.885185182094574,\n",
       "  0.8861111402511597,\n",
       "  0.8879629373550415,\n",
       "  0.8879629373550415,\n",
       "  0.8898147940635681,\n",
       "  0.8907407522201538,\n",
       "  0.8888888955116272,\n",
       "  0.8916666507720947,\n",
       "  0.8935185074806213,\n",
       "  0.8962963223457336,\n",
       "  0.8990740776062012,\n",
       "  0.8999999761581421,\n",
       "  0.9009259343147278,\n",
       "  0.9009259343147278,\n",
       "  0.9009259343147278,\n",
       "  0.9018518328666687,\n",
       "  0.9018518328666687,\n",
       "  0.9009259343147278,\n",
       "  0.9018518328666687,\n",
       "  0.9027777910232544,\n",
       "  0.9018518328666687,\n",
       "  0.9037036895751953,\n",
       "  0.904629647731781,\n",
       "  0.9064815044403076,\n",
       "  0.9092592597007751,\n",
       "  0.9101851582527161,\n",
       "  0.9101851582527161,\n",
       "  0.9120370149612427,\n",
       "  0.9138888716697693,\n",
       "  0.9138888716697693,\n",
       "  0.914814829826355,\n",
       "  0.914814829826355,\n",
       "  0.914814829826355,\n",
       "  0.9157407283782959,\n",
       "  0.9175925850868225,\n",
       "  0.9194444417953491,\n",
       "  0.9194444417953491,\n",
       "  0.9222221970558167,\n",
       "  0.9212962985038757,\n",
       "  0.9231481552124023,\n",
       "  0.9240740537643433,\n",
       "  0.9240740537643433,\n",
       "  0.9240740537643433,\n",
       "  0.9240740537643433,\n",
       "  0.925000011920929,\n",
       "  0.925000011920929,\n",
       "  0.9259259104728699,\n",
       "  0.9259259104728699,\n",
       "  0.9259259104728699,\n",
       "  0.9268518686294556,\n",
       "  0.9259259104728699,\n",
       "  0.9259259104728699,\n",
       "  0.9259259104728699,\n",
       "  0.9259259104728699,\n",
       "  0.9259259104728699,\n",
       "  0.9268518686294556,\n",
       "  0.9277777671813965,\n",
       "  0.9268518686294556,\n",
       "  0.9287037253379822,\n",
       "  0.9305555820465088,\n",
       "  0.9305555820465088,\n",
       "  0.9314814805984497,\n",
       "  0.9314814805984497,\n",
       "  0.9324073791503906,\n",
       "  0.9324073791503906,\n",
       "  0.9333333373069763,\n",
       "  0.9333333373069763,\n",
       "  0.9351851940155029,\n",
       "  0.9351851940155029,\n",
       "  0.9361110925674438,\n",
       "  0.9351851940155029,\n",
       "  0.9361110925674438,\n",
       "  0.9379629492759705,\n",
       "  0.9379629492759705,\n",
       "  0.9388889074325562,\n",
       "  0.9388889074325562,\n",
       "  0.9416666626930237,\n",
       "  0.9407407641410828,\n",
       "  0.9407407641410828,\n",
       "  0.9416666626930237,\n",
       "  0.9416666626930237,\n",
       "  0.9425926208496094,\n",
       "  0.9444444179534912,\n",
       "  0.9444444179534912,\n",
       "  0.9453703761100769,\n",
       "  0.9462962746620178,\n",
       "  0.9462962746620178,\n",
       "  0.9472222328186035,\n",
       "  0.9462962746620178,\n",
       "  0.9490740895271301],\n",
       " 'val_loss': [0.5040941834449768,\n",
       "  0.5013609528541565,\n",
       "  0.4980873763561249,\n",
       "  0.49525967240333557,\n",
       "  0.4922804534435272,\n",
       "  0.48943814635276794,\n",
       "  0.4866819381713867,\n",
       "  0.4835413098335266,\n",
       "  0.4805823564529419,\n",
       "  0.4774760603904724,\n",
       "  0.4751230776309967,\n",
       "  0.4726652204990387,\n",
       "  0.4702194929122925,\n",
       "  0.46697312593460083,\n",
       "  0.4650779962539673,\n",
       "  0.46262022852897644,\n",
       "  0.4595126807689667,\n",
       "  0.4566090703010559,\n",
       "  0.45450159907341003,\n",
       "  0.45213109254837036,\n",
       "  0.449828565120697,\n",
       "  0.44787535071372986,\n",
       "  0.4449790418148041,\n",
       "  0.4430718719959259,\n",
       "  0.44030457735061646,\n",
       "  0.43846064805984497,\n",
       "  0.43639811873435974,\n",
       "  0.43382543325424194,\n",
       "  0.4316788911819458,\n",
       "  0.42912203073501587,\n",
       "  0.4267714321613312,\n",
       "  0.4238103926181793,\n",
       "  0.42218607664108276,\n",
       "  0.42008697986602783,\n",
       "  0.41741564869880676,\n",
       "  0.415334016084671,\n",
       "  0.41331228613853455,\n",
       "  0.41112855076789856,\n",
       "  0.40826448798179626,\n",
       "  0.4070853888988495,\n",
       "  0.4047180712223053,\n",
       "  0.40252140164375305,\n",
       "  0.4004998505115509,\n",
       "  0.39934101700782776,\n",
       "  0.3968676030635834,\n",
       "  0.3958064317703247,\n",
       "  0.39337241649627686,\n",
       "  0.3931218385696411,\n",
       "  0.39021047949790955,\n",
       "  0.39011839032173157,\n",
       "  0.38752323389053345,\n",
       "  0.3871111273765564,\n",
       "  0.3843297064304352,\n",
       "  0.38410550355911255,\n",
       "  0.38121527433395386,\n",
       "  0.3808082640171051,\n",
       "  0.3782733380794525,\n",
       "  0.37794730067253113,\n",
       "  0.3755990266799927,\n",
       "  0.3740495443344116,\n",
       "  0.3724871873855591,\n",
       "  0.371063232421875,\n",
       "  0.37081730365753174,\n",
       "  0.3688073456287384,\n",
       "  0.3673020005226135,\n",
       "  0.3657229244709015,\n",
       "  0.36537569761276245,\n",
       "  0.36261865496635437,\n",
       "  0.3624071776866913,\n",
       "  0.3605203628540039,\n",
       "  0.3593435287475586,\n",
       "  0.357785165309906,\n",
       "  0.35672760009765625,\n",
       "  0.35503342747688293,\n",
       "  0.3549346923828125,\n",
       "  0.35329779982566833,\n",
       "  0.35290586948394775,\n",
       "  0.35119280219078064,\n",
       "  0.350796103477478,\n",
       "  0.3488413989543915,\n",
       "  0.3493615388870239,\n",
       "  0.3480026125907898,\n",
       "  0.3467501401901245,\n",
       "  0.3456655442714691,\n",
       "  0.3451300859451294,\n",
       "  0.3438696563243866,\n",
       "  0.3428089916706085,\n",
       "  0.342152863740921,\n",
       "  0.34130147099494934,\n",
       "  0.3401236832141876,\n",
       "  0.34015658497810364,\n",
       "  0.33894655108451843,\n",
       "  0.33795759081840515,\n",
       "  0.33649009466171265,\n",
       "  0.33662673830986023,\n",
       "  0.3347261846065521,\n",
       "  0.3347340226173401,\n",
       "  0.3318764567375183,\n",
       "  0.3339405655860901,\n",
       "  0.3311629593372345],\n",
       " 'val_accuracy': [0.800000011920929,\n",
       "  0.800000011920929,\n",
       "  0.800000011920929,\n",
       "  0.800000011920929,\n",
       "  0.800000011920929,\n",
       "  0.8083333373069763,\n",
       "  0.8166666626930237,\n",
       "  0.8166666626930237,\n",
       "  0.824999988079071,\n",
       "  0.824999988079071,\n",
       "  0.824999988079071,\n",
       "  0.824999988079071,\n",
       "  0.824999988079071,\n",
       "  0.824999988079071,\n",
       "  0.824999988079071,\n",
       "  0.824999988079071,\n",
       "  0.824999988079071,\n",
       "  0.824999988079071,\n",
       "  0.8166666626930237,\n",
       "  0.824999988079071,\n",
       "  0.8166666626930237,\n",
       "  0.824999988079071,\n",
       "  0.824999988079071,\n",
       "  0.824999988079071,\n",
       "  0.824999988079071,\n",
       "  0.8333333134651184,\n",
       "  0.8333333134651184,\n",
       "  0.8333333134651184,\n",
       "  0.8333333134651184,\n",
       "  0.8333333134651184,\n",
       "  0.8333333134651184,\n",
       "  0.8333333134651184,\n",
       "  0.8333333134651184,\n",
       "  0.8333333134651184,\n",
       "  0.8500000238418579,\n",
       "  0.8583333492279053,\n",
       "  0.8583333492279053,\n",
       "  0.8583333492279053,\n",
       "  0.8583333492279053,\n",
       "  0.8583333492279053,\n",
       "  0.8583333492279053,\n",
       "  0.8666666746139526,\n",
       "  0.8666666746139526,\n",
       "  0.8666666746139526,\n",
       "  0.8666666746139526,\n",
       "  0.8666666746139526,\n",
       "  0.8666666746139526,\n",
       "  0.8666666746139526,\n",
       "  0.8666666746139526,\n",
       "  0.8666666746139526,\n",
       "  0.8666666746139526,\n",
       "  0.8666666746139526,\n",
       "  0.8666666746139526,\n",
       "  0.8666666746139526,\n",
       "  0.8666666746139526,\n",
       "  0.8666666746139526,\n",
       "  0.8666666746139526,\n",
       "  0.8666666746139526,\n",
       "  0.8666666746139526,\n",
       "  0.8666666746139526,\n",
       "  0.8666666746139526,\n",
       "  0.8666666746139526,\n",
       "  0.8666666746139526,\n",
       "  0.8666666746139526,\n",
       "  0.8666666746139526,\n",
       "  0.8666666746139526,\n",
       "  0.8666666746139526,\n",
       "  0.8666666746139526,\n",
       "  0.8666666746139526,\n",
       "  0.8666666746139526,\n",
       "  0.8666666746139526,\n",
       "  0.8666666746139526,\n",
       "  0.8666666746139526,\n",
       "  0.8666666746139526,\n",
       "  0.8666666746139526,\n",
       "  0.8666666746139526,\n",
       "  0.8666666746139526,\n",
       "  0.8583333492279053,\n",
       "  0.8583333492279053,\n",
       "  0.8583333492279053,\n",
       "  0.8583333492279053,\n",
       "  0.8500000238418579,\n",
       "  0.8500000238418579,\n",
       "  0.8500000238418579,\n",
       "  0.8500000238418579,\n",
       "  0.8500000238418579,\n",
       "  0.8500000238418579,\n",
       "  0.8500000238418579,\n",
       "  0.8500000238418579,\n",
       "  0.8500000238418579,\n",
       "  0.8500000238418579,\n",
       "  0.8500000238418579,\n",
       "  0.8500000238418579,\n",
       "  0.8500000238418579,\n",
       "  0.8416666388511658,\n",
       "  0.8416666388511658,\n",
       "  0.8416666388511658,\n",
       "  0.8500000238418579,\n",
       "  0.8416666388511658,\n",
       "  0.8416666388511658]}"
      ]
     },
     "execution_count": 31,
     "metadata": {},
     "output_type": "execute_result"
    }
   ],
   "source": [
    "history.history"
   ]
  },
  {
   "cell_type": "markdown",
   "metadata": {},
   "source": [
    "Now visualize the loss over time using `history.history`: "
   ]
  },
  {
   "cell_type": "code",
   "execution_count": 32,
   "metadata": {},
   "outputs": [
    {
     "data": {
      "text/plain": [
       "[Text(0, 0.5, 'Accuracy'), Text(0.5, 0, 'Epoch')]"
      ]
     },
     "execution_count": 32,
     "metadata": {},
     "output_type": "execute_result"
    },
    {
     "data": {
      "image/png": "[encoded data removed]",
      "text/plain": [
       "<Figure size 864x576 with 1 Axes>"
      ]
     },
     "metadata": {
      "needs_background": "light"
     },
     "output_type": "display_data"
    },
    {
     "data": {
      "image/png": "[encoded data removed]",
      "text/plain": [
       "<Figure size 864x576 with 1 Axes>"
      ]
     },
     "metadata": {
      "needs_background": "light"
     },
     "output_type": "display_data"
    }
   ],
   "source": [
    "# The history.history[\"loss\"] entry is a dictionary with as many values as epochs that the\n",
    "# model was trained on. \n",
    "df_loss_acc = pd.DataFrame(history.history)\n",
    "df_loss= df_loss_acc[['loss','val_loss']]\n",
    "df_loss.rename(columns={'loss':'train','val_loss':'validation'},inplace=True)\n",
    "df_acc= df_loss_acc[['accuracy','val_accuracy']]\n",
    "df_acc.rename(columns={'accuracy':'train','val_accuracy':'validation'},inplace=True)\n",
    "df_loss.plot(title='Model loss',figsize=(12,8)).set(xlabel='Epoch',ylabel='Loss')\n",
    "df_acc.plot(title='Model Accuracy',figsize=(12,8)).set(xlabel='Epoch',ylabel='Accuracy')"
   ]
  },
  {
   "cell_type": "markdown",
   "metadata": {},
   "source": [
    "**Congratulations**! You've finished the assignment and built two models: One that recognizes  smiles, and another that recognizes SIGN language with almost 80% accuracy on the test set. In addition to that, you now also understand the applications of two Keras APIs: Sequential and Functional. Nicely done! \n",
    "\n",
    "By now, you know a bit about how the Functional API works and may have glimpsed the possibilities. In your next assignment, you'll really get a feel for its power when you get the opportunity to build a very deep ConvNet, using ResNets! "
   ]
  },
  {
   "cell_type": "markdown",
   "metadata": {},
   "source": [
    "<a name='6'></a>\n",
    "## 6 - Bibliography\n",
    "\n",
    "You're always encouraged to read the official documentation. To that end, you can find the docs for the Sequential and Functional APIs here: \n",
    "\n",
    "https://www.tensorflow.org/guide/keras/sequential_model\n",
    "\n",
    "https://www.tensorflow.org/guide/keras/functional"
   ]
  }
 ],
 "metadata": {
  "coursera": {
   "course_slug": "convolutional-neural-networks",
   "graded_item_id": "bwbJV",
   "launcher_item_id": "0TkXB"
  },
  "kernelspec": {
   "display_name": "Python 3",
   "language": "python",
   "name": "python3"
  },
  "language_info": {
   "codemirror_mode": {
    "name": "ipython",
    "version": 3
   },
   "file_extension": ".py",
   "mimetype": "text/x-python",
   "name": "python",
   "nbconvert_exporter": "python",
   "pygments_lexer": "ipython3",
   "version": "3.7.6"
  }
 },
 "nbformat": 4,
 "nbformat_minor": 2
}
